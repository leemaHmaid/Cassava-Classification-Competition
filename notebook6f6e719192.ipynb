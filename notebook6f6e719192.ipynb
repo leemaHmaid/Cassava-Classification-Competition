{
  "metadata": {
    "kernelspec": {
      "display_name": "Python 3",
      "language": "python",
      "name": "python3"
    },
    "language_info": {
      "name": "python",
      "version": "3.10.13",
      "mimetype": "text/x-python",
      "codemirror_mode": {
        "name": "ipython",
        "version": 3
      },
      "pygments_lexer": "ipython3",
      "nbconvert_exporter": "python",
      "file_extension": ".py"
    },
    "papermill": {
      "default_parameters": {},
      "duration": 585.822379,
      "end_time": "2021-03-29T12:00:26.314136",
      "environment_variables": {},
      "exception": null,
      "input_path": "__notebook__.ipynb",
      "output_path": "__notebook__.ipynb",
      "parameters": {},
      "start_time": "2021-03-29T11:50:40.491757",
      "version": "2.2.2"
    },
    "kaggle": {
      "accelerator": "gpu",
      "dataSources": [
        {
          "sourceId": 77142,
          "databundleVersionId": 8400328,
          "sourceType": "competition"
        }
      ],
      "dockerImageVersionId": 30699,
      "isInternetEnabled": true,
      "language": "python",
      "sourceType": "notebook",
      "isGpuEnabled": true
    },
    "colab": {
      "name": "notebook6f6e719192",
      "provenance": [],
      "include_colab_link": true
    }
  },
  "nbformat_minor": 0,
  "nbformat": 4,
  "cells": [
    {
      "cell_type": "markdown",
      "metadata": {
        "id": "view-in-github",
        "colab_type": "text"
      },
      "source": [
        "<a href=\"https://colab.research.google.com/github/leemaHmaid/Cassava-Classification-Competition/blob/main/notebook6f6e719192.ipynb\" target=\"_parent\"><img src=\"https://colab.research.google.com/assets/colab-badge.svg\" alt=\"Open In Colab\"/></a>"
      ]
    },
    {
      "source": [
        "\n",
        "# IMPORTANT: RUN THIS CELL IN ORDER TO IMPORT YOUR KAGGLE DATA SOURCES\n",
        "# TO THE CORRECT LOCATION (/kaggle/input) IN YOUR NOTEBOOK,\n",
        "# THEN FEEL FREE TO DELETE THIS CELL.\n",
        "# NOTE: THIS NOTEBOOK ENVIRONMENT DIFFERS FROM KAGGLE'S PYTHON\n",
        "# ENVIRONMENT SO THERE MAY BE MISSING LIBRARIES USED BY YOUR\n",
        "# NOTEBOOK.\n",
        "\n",
        "import os\n",
        "import sys\n",
        "from tempfile import NamedTemporaryFile\n",
        "from urllib.request import urlopen\n",
        "from urllib.parse import unquote, urlparse\n",
        "from urllib.error import HTTPError\n",
        "from zipfile import ZipFile\n",
        "import tarfile\n",
        "import shutil\n",
        "\n",
        "CHUNK_SIZE = 40960\n",
        "DATA_SOURCE_MAPPING = 'ammi-2024-computer-vision:https%3A%2F%2Fstorage.googleapis.com%2Fkaggle-competitions-data%2Fkaggle-v2%2F77142%2F8400328%2Fbundle%2Farchive.zip%3FX-Goog-Algorithm%3DGOOG4-RSA-SHA256%26X-Goog-Credential%3Dgcp-kaggle-com%2540kaggle-161607.iam.gserviceaccount.com%252F20240731%252Fauto%252Fstorage%252Fgoog4_request%26X-Goog-Date%3D20240731T002738Z%26X-Goog-Expires%3D259200%26X-Goog-SignedHeaders%3Dhost%26X-Goog-Signature%3D86112ecd4658a342bfaa7b3685d20118eb1747eb5639e35d6401bb35f621ce7bfaadd04f27708a36bb9167c41bf3389de4e4c9c1389124be22d141e05b9e24dc53258f08f8417e143ba8100b8981a917139803306d3646ca8dd14e49d0dc5902c40ef748c135377e3cdcd038648c9ef1483365a9e4fd0556e96b39abae8c6f303fbd20f50040caeda5f6901ccce19add03799b207433716f665e548a2d270af11acd2782e89b6047527b2e6444141b788b7df3e602a4972a6cdeb2746b4df9c497ea1bf696f729a108ea7bf6d05e2e9b61b55cb5b067a9bf91a7c4d8fcc8d0a1d3f57ea4b0eb05a075d8afd02907a2185dbb0bd9d06b0ecfeec9e00c729b5263'\n",
        "\n",
        "KAGGLE_INPUT_PATH='/kaggle/input'\n",
        "KAGGLE_WORKING_PATH='/kaggle/working'\n",
        "KAGGLE_SYMLINK='kaggle'\n",
        "\n",
        "!umount /kaggle/input/ 2> /dev/null\n",
        "shutil.rmtree('/kaggle/input', ignore_errors=True)\n",
        "os.makedirs(KAGGLE_INPUT_PATH, 0o777, exist_ok=True)\n",
        "os.makedirs(KAGGLE_WORKING_PATH, 0o777, exist_ok=True)\n",
        "\n",
        "try:\n",
        "  os.symlink(KAGGLE_INPUT_PATH, os.path.join(\"..\", 'input'), target_is_directory=True)\n",
        "except FileExistsError:\n",
        "  pass\n",
        "try:\n",
        "  os.symlink(KAGGLE_WORKING_PATH, os.path.join(\"..\", 'working'), target_is_directory=True)\n",
        "except FileExistsError:\n",
        "  pass\n",
        "\n",
        "for data_source_mapping in DATA_SOURCE_MAPPING.split(','):\n",
        "    directory, download_url_encoded = data_source_mapping.split(':')\n",
        "    download_url = unquote(download_url_encoded)\n",
        "    filename = urlparse(download_url).path\n",
        "    destination_path = os.path.join(KAGGLE_INPUT_PATH, directory)\n",
        "    try:\n",
        "        with urlopen(download_url) as fileres, NamedTemporaryFile() as tfile:\n",
        "            total_length = fileres.headers['content-length']\n",
        "            print(f'Downloading {directory}, {total_length} bytes compressed')\n",
        "            dl = 0\n",
        "            data = fileres.read(CHUNK_SIZE)\n",
        "            while len(data) > 0:\n",
        "                dl += len(data)\n",
        "                tfile.write(data)\n",
        "                done = int(50 * dl / int(total_length))\n",
        "                sys.stdout.write(f\"\\r[{'=' * done}{' ' * (50-done)}] {dl} bytes downloaded\")\n",
        "                sys.stdout.flush()\n",
        "                data = fileres.read(CHUNK_SIZE)\n",
        "            if filename.endswith('.zip'):\n",
        "              with ZipFile(tfile) as zfile:\n",
        "                zfile.extractall(destination_path)\n",
        "            else:\n",
        "              with tarfile.open(tfile.name) as tarfile:\n",
        "                tarfile.extractall(destination_path)\n",
        "            print(f'\\nDownloaded and uncompressed: {directory}')\n",
        "    except HTTPError as e:\n",
        "        print(f'Failed to load (likely expired) {download_url} to path {destination_path}')\n",
        "        continue\n",
        "    except OSError as e:\n",
        "        print(f'Failed to load {download_url} to path {destination_path}')\n",
        "        continue\n",
        "\n",
        "print('Data source import complete.')\n"
      ],
      "metadata": {
        "id": "Qu4WrBydL3rT"
      },
      "cell_type": "code",
      "outputs": [],
      "execution_count": null
    },
    {
      "cell_type": "code",
      "source": [
        "#Imports\n",
        "import os\n",
        "import sys\n",
        "import glob\n",
        "import torch\n",
        "import torchvision\n",
        "import pandas as pd\n",
        "\n",
        "import numpy    as np\n",
        "import datetime as dt\n",
        "import torch.nn as nn\n",
        "import torch.nn.functional as F\n",
        "import matplotlib.pyplot   as plt\n",
        "\n",
        "from PIL               import Image\n",
        "from torch.utils.data  import Dataset\n",
        "from torch.autograd    import Variable\n",
        "from torch.optim       import lr_scheduler\n",
        "import timm\n",
        "from torch.utils.tensorboard import SummaryWriter\n",
        "\n",
        "import albumentations as A\n",
        "from albumentations.pytorch.transforms import ToTensorV2\n",
        "from contextlib import contextmanager\n",
        "from collections import defaultdict, Counter\n",
        "from torch.optim.lr_scheduler import ReduceLROnPlateau\n",
        "from sklearn.model_selection import KFold\n",
        "\n",
        "import scipy as sp\n",
        "\n",
        "from torch.utils.data  import Dataset, DataLoader,Subset\n",
        "from torch.utils.data.sampler import SubsetRandomSampler\n",
        "from torchvision       import transforms, datasets, models\n",
        "from torchvision.models import resnext50_32x4d,resnext101_64x4d,ResNeXt101_64X4D_Weights,ResNeXt50_32X4D_Weights\n",
        "from os                import listdir, makedirs, getcwd, remove\n",
        "from os.path           import isfile, join, abspath, exists, isdir, expanduser\n",
        "\n",
        "from torchvision.datasets import DatasetFolder\n",
        "from sklearn.model_selection import StratifiedKFold\n",
        "\n",
        "\n",
        "%matplotlib inline"
      ],
      "metadata": {
        "_cell_guid": "b1076dfc-b9ad-4769-8c92-a6c4dae69d19",
        "_uuid": "8f2839f25d086af736a60e9eeb907d3b93b6e0e5",
        "papermill": {
          "duration": 1.438614,
          "end_time": "2021-03-29T11:50:48.533762",
          "exception": false,
          "start_time": "2021-03-29T11:50:47.095148",
          "status": "completed"
        },
        "tags": [],
        "execution": {
          "iopub.status.busy": "2024-05-19T20:25:11.644895Z",
          "iopub.execute_input": "2024-05-19T20:25:11.645452Z",
          "iopub.status.idle": "2024-05-19T20:25:33.01446Z",
          "shell.execute_reply.started": "2024-05-19T20:25:11.645419Z",
          "shell.execute_reply": "2024-05-19T20:25:33.013353Z"
        },
        "trusted": true,
        "id": "wUKnpSksL3rV",
        "outputId": "5988fa01-5e8c-4599-a522-7949f37984f4"
      },
      "execution_count": null,
      "outputs": [
        {
          "name": "stderr",
          "text": "2024-05-19 20:25:23.061588: E external/local_xla/xla/stream_executor/cuda/cuda_dnn.cc:9261] Unable to register cuDNN factory: Attempting to register factory for plugin cuDNN when one has already been registered\n2024-05-19 20:25:23.061714: E external/local_xla/xla/stream_executor/cuda/cuda_fft.cc:607] Unable to register cuFFT factory: Attempting to register factory for plugin cuFFT when one has already been registered\n2024-05-19 20:25:23.197869: E external/local_xla/xla/stream_executor/cuda/cuda_blas.cc:1515] Unable to register cuBLAS factory: Attempting to register factory for plugin cuBLAS when one has already been registered\n",
          "output_type": "stream"
        }
      ]
    },
    {
      "cell_type": "code",
      "source": [
        "!pip install --upgrade certifi\n",
        "\n",
        "import ssl\n",
        "import urllib\n",
        "from urllib.request import urlopen\n",
        "\n",
        "ssl._create_default_https_context = ssl._create_unverified_context"
      ],
      "metadata": {
        "execution": {
          "iopub.status.busy": "2024-05-19T20:25:39.385558Z",
          "iopub.execute_input": "2024-05-19T20:25:39.386622Z",
          "iopub.status.idle": "2024-05-19T20:25:55.013374Z",
          "shell.execute_reply.started": "2024-05-19T20:25:39.386587Z",
          "shell.execute_reply": "2024-05-19T20:25:55.012053Z"
        },
        "trusted": true,
        "id": "KbYA4fngL3rW",
        "outputId": "966bc9c5-ca11-4531-9d17-381485fdf2ff"
      },
      "execution_count": null,
      "outputs": [
        {
          "name": "stdout",
          "text": "Requirement already satisfied: certifi in /opt/conda/lib/python3.10/site-packages (2024.2.2)\n",
          "output_type": "stream"
        }
      ]
    },
    {
      "cell_type": "code",
      "source": [
        "# pip install --upgrade certifi\n"
      ],
      "metadata": {
        "trusted": true,
        "id": "4Zbm4rM6L3rW"
      },
      "execution_count": null,
      "outputs": []
    },
    {
      "cell_type": "code",
      "source": [
        "data_path = \"/kaggle/input/ammi-2024-computer-vision/\"\n",
        "train_path = join(data_path, \"train/train\")\n",
        "test_path = join(data_path,\"test/test\")\n",
        "extraimage_path = join(data_path, \"extraimages/extraimages\")"
      ],
      "metadata": {
        "papermill": {
          "duration": 0.021142,
          "end_time": "2021-03-29T11:50:48.566314",
          "exception": false,
          "start_time": "2021-03-29T11:50:48.545172",
          "status": "completed"
        },
        "tags": [],
        "execution": {
          "iopub.status.busy": "2024-05-19T20:26:07.318096Z",
          "iopub.execute_input": "2024-05-19T20:26:07.318523Z",
          "iopub.status.idle": "2024-05-19T20:26:07.325809Z",
          "shell.execute_reply.started": "2024-05-19T20:26:07.31849Z",
          "shell.execute_reply": "2024-05-19T20:26:07.324273Z"
        },
        "trusted": true,
        "id": "tSZFRToIL3rW"
      },
      "execution_count": null,
      "outputs": []
    },
    {
      "cell_type": "code",
      "source": [
        "# Transformations for both the training and testing data\n",
        "mean = [0.485, 0.456, 0.406]\n",
        "std = [0.229, 0.224, 0.225]\n",
        "\n",
        "train_transforms = A.Compose([\n",
        "    A.RandomResizedCrop(width= 448, height= 448),\n",
        "    A.Rotate(limit=30, p=0.5),\n",
        "    A.Transpose(p=0.5),\n",
        "    A.HorizontalFlip(p=0.5),\n",
        "    A.VerticalFlip(p=0.5),\n",
        "#     A.ColorJitter(brightness=0.2, contrast=0.2, saturation=0.2, hue=0.1),\n",
        "    A.Normalize(mean=mean, std=std),\n",
        "    ToTensorV2()\n",
        "])\n",
        "\n",
        "test_transforms = A.Compose([\n",
        "    A.Resize(width=500, height=500),\n",
        "    A.CenterCrop(width=448, height=448),\n",
        "    A.Normalize(mean=mean, std=std),\n",
        "    ToTensorV2()\n",
        "])\n",
        "\n"
      ],
      "metadata": {
        "papermill": {
          "duration": 0.021092,
          "end_time": "2021-03-29T11:50:48.598404",
          "exception": false,
          "start_time": "2021-03-29T11:50:48.577312",
          "status": "completed"
        },
        "tags": [],
        "execution": {
          "iopub.status.busy": "2024-05-19T20:26:12.669761Z",
          "iopub.execute_input": "2024-05-19T20:26:12.670421Z",
          "iopub.status.idle": "2024-05-19T20:26:12.682882Z",
          "shell.execute_reply.started": "2024-05-19T20:26:12.670386Z",
          "shell.execute_reply": "2024-05-19T20:26:12.681488Z"
        },
        "trusted": true,
        "id": "rNGukS76L3rW"
      },
      "execution_count": null,
      "outputs": []
    },
    {
      "cell_type": "code",
      "source": [
        "class CFG:\n",
        "    debug=False\n",
        "    num_workers=8\n",
        "    model_name= 'se_resnext101_32x8d'\n",
        "\n",
        "    size=512\n",
        "    batch_size=16\n",
        "    seed=42\n",
        "    target_size=5\n",
        "    target_col='label'\n",
        "    n_fold=5\n",
        "    trn_fold=[0, 1, 2, 3, 4]\n",
        "    inference=True"
      ],
      "metadata": {
        "execution": {
          "iopub.status.busy": "2024-05-19T20:26:16.777781Z",
          "iopub.execute_input": "2024-05-19T20:26:16.778178Z",
          "iopub.status.idle": "2024-05-19T20:26:16.785276Z",
          "shell.execute_reply.started": "2024-05-19T20:26:16.778148Z",
          "shell.execute_reply": "2024-05-19T20:26:16.784139Z"
        },
        "trusted": true,
        "id": "vC7uNHI_L3rX"
      },
      "execution_count": null,
      "outputs": []
    },
    {
      "cell_type": "code",
      "source": [
        "class CassavaDataset(Dataset):\n",
        "    def __init__(self, path, transform=None):\n",
        "        self.classes = os.listdir(path)\n",
        "        self.path = [f\"{path}/{className}\" for className in self.classes]\n",
        "        self.file_list = [glob.glob(f\"{x}/*\") for x in self.path]\n",
        "        self.transform = transform\n",
        "        self.classes_Dict = {}\n",
        "        self.classes_count = {}\n",
        "\n",
        "        files = []\n",
        "        for i, className in enumerate(self.classes):\n",
        "            for fileName in self.file_list[i]:\n",
        "                self.classes_Dict[i] = className\n",
        "                files.append([i, className, fileName])\n",
        "        self.file_list = files\n",
        "        files = None\n",
        "\n",
        "        classes_in_file = []\n",
        "        for file in self.file_list:\n",
        "            classes_in_file.append(file[1])\n",
        "        class_counts = {}\n",
        "        for name in classes_in_file:\n",
        "            if name in class_counts:\n",
        "                class_counts[name] += 1\n",
        "            else:\n",
        "                class_counts[name] = 1\n",
        "        self.classes_count = class_counts\n",
        "    def get_image_filename(self, idx):\n",
        "        file_path = self.file_list[idx][2]\n",
        "        file_name = file_path.split(\"/\")[-1]\n",
        "        return file_name\n",
        "\n",
        "\n",
        "    def __len__(self):\n",
        "        return len(self.file_list)\n",
        "\n",
        "    def __getitem__(self, idx):\n",
        "        fileName = self.file_list[idx][2]\n",
        "        classCategory = self.file_list[idx][0]\n",
        "        im = Image.open(fileName)\n",
        "        im = np.array(im)\n",
        "        if self.transform:\n",
        "            augmented= self.transform(image=im)\n",
        "            im = augmented['image']\n",
        "\n",
        "        return im, classCategory"
      ],
      "metadata": {
        "papermill": {
          "duration": 0.02374,
          "end_time": "2021-03-29T11:50:48.633742",
          "exception": false,
          "start_time": "2021-03-29T11:50:48.610002",
          "status": "completed"
        },
        "tags": [],
        "execution": {
          "iopub.status.busy": "2024-05-19T20:26:19.837352Z",
          "iopub.execute_input": "2024-05-19T20:26:19.838374Z",
          "iopub.status.idle": "2024-05-19T20:26:19.855205Z",
          "shell.execute_reply.started": "2024-05-19T20:26:19.83833Z",
          "shell.execute_reply": "2024-05-19T20:26:19.854245Z"
        },
        "trusted": true,
        "id": "reb6qyS8L3rX"
      },
      "execution_count": null,
      "outputs": []
    },
    {
      "cell_type": "code",
      "source": [
        "train_data = CassavaDataset(train_path, transform=train_transforms)\n",
        "test_data = CassavaDataset(test_path, transform=test_transforms)"
      ],
      "metadata": {
        "papermill": {
          "duration": 0.614629,
          "end_time": "2021-03-29T11:50:49.259763",
          "exception": false,
          "start_time": "2021-03-29T11:50:48.645134",
          "status": "completed"
        },
        "tags": [],
        "execution": {
          "iopub.status.busy": "2024-05-19T20:26:22.576519Z",
          "iopub.execute_input": "2024-05-19T20:26:22.577369Z",
          "iopub.status.idle": "2024-05-19T20:26:23.666464Z",
          "shell.execute_reply.started": "2024-05-19T20:26:22.577339Z",
          "shell.execute_reply": "2024-05-19T20:26:23.665584Z"
        },
        "trusted": true,
        "id": "oDZvqxb3L3rX"
      },
      "execution_count": null,
      "outputs": []
    },
    {
      "cell_type": "code",
      "source": [
        "# Define the K-fold Cross Validator\n",
        "kfold = KFold(n_splits=5, shuffle=True, random_state=42)\n",
        "BATCH_SIZE = 2\n",
        "# K-fold Cross Validation model evaluation\n",
        "data_loaders = []\n",
        "for fold, (train_ids, val_ids) in enumerate(kfold.split(train_data)):\n",
        "    train_dataset = Subset(train_data, train_ids)\n",
        "    val_dataset = Subset(train_data, val_ids)\n",
        "\n",
        "\n",
        "    train_loader = DataLoader(train_dataset, batch_size=BATCH_SIZE, shuffle=True,\n",
        "                                                 drop_last=True)\n",
        "    valid_loader = DataLoader(val_dataset, batch_size=BATCH_SIZE, shuffle=False,\n",
        "                                                 drop_last=True)\n",
        "\n",
        "    data_loaders.append((train_loader, valid_loader))"
      ],
      "metadata": {
        "execution": {
          "iopub.status.busy": "2024-05-19T20:26:26.658027Z",
          "iopub.execute_input": "2024-05-19T20:26:26.658417Z",
          "iopub.status.idle": "2024-05-19T20:26:26.671207Z",
          "shell.execute_reply.started": "2024-05-19T20:26:26.658388Z",
          "shell.execute_reply": "2024-05-19T20:26:26.67007Z"
        },
        "trusted": true,
        "id": "haLiViD5L3rX"
      },
      "execution_count": null,
      "outputs": []
    },
    {
      "cell_type": "code",
      "source": [
        "validation_split = .2\n",
        "shuffle_dataset = True\n",
        "random_seed= 42\n",
        "\n",
        "# Creating data indices for training and validation splits:\n",
        "dataset_size = len(train_data)\n",
        "indices = list(range(dataset_size))\n",
        "split = int(np.floor(validation_split * dataset_size))\n",
        "\n",
        "if shuffle_dataset :\n",
        "    np.random.seed(random_seed)\n",
        "    np.random.shuffle(indices)\n",
        "\n",
        "train_indices, val_indices = indices[split:], indices[:split]\n",
        ""
      ],
      "metadata": {
        "papermill": {
          "duration": 0.022198,
          "end_time": "2021-03-29T11:50:49.293623",
          "exception": false,
          "start_time": "2021-03-29T11:50:49.271425",
          "status": "completed"
        },
        "tags": [],
        "execution": {
          "iopub.status.busy": "2024-05-19T20:26:28.857414Z",
          "iopub.execute_input": "2024-05-19T20:26:28.857952Z",
          "iopub.status.idle": "2024-05-19T20:26:28.865057Z",
          "shell.execute_reply.started": "2024-05-19T20:26:28.857916Z",
          "shell.execute_reply": "2024-05-19T20:26:28.864196Z"
        },
        "trusted": true,
        "id": "Vv0ZeTJoL3rX"
      },
      "execution_count": null,
      "outputs": []
    },
    {
      "cell_type": "code",
      "source": [
        "# Creating PT data samplers and loaders:\n",
        "train_sampler = SubsetRandomSampler(train_indices)\n",
        "valid_sampler = SubsetRandomSampler(val_indices)\n",
        "test_loader = torch.utils.data.DataLoader(test_data, batch_size=4)"
      ],
      "metadata": {
        "papermill": {
          "duration": 0.02193,
          "end_time": "2021-03-29T11:50:49.327221",
          "exception": false,
          "start_time": "2021-03-29T11:50:49.305291",
          "status": "completed"
        },
        "tags": [],
        "execution": {
          "iopub.status.busy": "2024-05-19T23:06:36.479422Z",
          "iopub.execute_input": "2024-05-19T23:06:36.479896Z",
          "iopub.status.idle": "2024-05-19T23:06:36.486272Z",
          "shell.execute_reply.started": "2024-05-19T23:06:36.479865Z",
          "shell.execute_reply": "2024-05-19T23:06:36.48514Z"
        },
        "trusted": true,
        "id": "E6uFxitTL3rX"
      },
      "execution_count": null,
      "outputs": []
    },
    {
      "cell_type": "code",
      "source": [
        "# Device configuration\n",
        "device = torch.device('cuda:0' if torch.cuda.is_available() else 'cpu')"
      ],
      "metadata": {
        "papermill": {
          "duration": 0.021251,
          "end_time": "2021-03-29T11:50:49.36027",
          "exception": false,
          "start_time": "2021-03-29T11:50:49.339019",
          "status": "completed"
        },
        "tags": [],
        "execution": {
          "iopub.status.busy": "2024-05-19T20:26:34.469907Z",
          "iopub.execute_input": "2024-05-19T20:26:34.470553Z",
          "iopub.status.idle": "2024-05-19T20:26:34.501132Z",
          "shell.execute_reply.started": "2024-05-19T20:26:34.47052Z",
          "shell.execute_reply": "2024-05-19T20:26:34.499886Z"
        },
        "trusted": true,
        "id": "EOO9lQtTL3rY"
      },
      "execution_count": null,
      "outputs": []
    },
    {
      "cell_type": "code",
      "source": [
        "plt.figure(figsize=(8, 4))  # Set the figure size\n",
        "unique_classes = list(train_data.classes_count.keys())\n",
        "unique_classes_count= list(train_data.classes_count.values())\n",
        "plt.barh(unique_classes,unique_classes_count)\n",
        "\n",
        "plt.xlabel(\"Count\")\n",
        "plt.ylabel(\"Class Name\")\n",
        "plt.title(\"Class Distribution\")\n",
        "\n",
        "plt.show()\n"
      ],
      "metadata": {
        "execution": {
          "iopub.status.busy": "2024-05-19T20:26:36.43705Z",
          "iopub.execute_input": "2024-05-19T20:26:36.43743Z",
          "iopub.status.idle": "2024-05-19T20:26:36.744395Z",
          "shell.execute_reply.started": "2024-05-19T20:26:36.437402Z",
          "shell.execute_reply": "2024-05-19T20:26:36.743329Z"
        },
        "trusted": true,
        "id": "Lu7edJtKL3rY",
        "outputId": "2ce79105-183d-4e6f-872e-f6772c3abab8"
      },
      "execution_count": null,
      "outputs": [
        {
          "output_type": "display_data",
          "data": {
            "text/plain": "<Figure size 800x400 with 1 Axes>",
            "image/png": "[encoded data removed]"
          },
          "metadata": {}
        }
      ]
    },
    {
      "cell_type": "code",
      "source": [
        "!pip install --upgrade certifi\n",
        "\n",
        "import ssl\n",
        "import urllib\n",
        "from urllib.request import urlopen\n",
        "\n",
        "ssl._create_default_https_context = ssl._create_unverified_context"
      ],
      "metadata": {
        "execution": {
          "iopub.status.busy": "2024-05-19T20:26:41.158274Z",
          "iopub.execute_input": "2024-05-19T20:26:41.158944Z",
          "iopub.status.idle": "2024-05-19T20:26:55.394885Z",
          "shell.execute_reply.started": "2024-05-19T20:26:41.158908Z",
          "shell.execute_reply": "2024-05-19T20:26:55.393727Z"
        },
        "trusted": true,
        "id": "ygiw9NdfL3rY",
        "outputId": "392160f5-a564-4007-cdf2-b2c131b5fae0"
      },
      "execution_count": null,
      "outputs": [
        {
          "name": "stdout",
          "text": "Requirement already satisfied: certifi in /opt/conda/lib/python3.10/site-packages (2024.2.2)\n",
          "output_type": "stream"
        }
      ]
    },
    {
      "cell_type": "code",
      "source": [
        "!pip install pretrainedmodels >/dev/null 2>&1\n",
        "import pretrainedmodels"
      ],
      "metadata": {
        "execution": {
          "iopub.status.busy": "2024-05-19T20:27:08.175528Z",
          "iopub.execute_input": "2024-05-19T20:27:08.175997Z",
          "iopub.status.idle": "2024-05-19T20:27:27.493333Z",
          "shell.execute_reply.started": "2024-05-19T20:27:08.175959Z",
          "shell.execute_reply": "2024-05-19T20:27:27.492Z"
        },
        "trusted": true,
        "id": "2ikbgQuvL3rY"
      },
      "execution_count": null,
      "outputs": []
    },
    {
      "cell_type": "code",
      "source": [
        "def se_resnext101_32x4d(pretrained=True):\n",
        "    pretrained = 'imagenet' if pretrained else None\n",
        "    model = pretrainedmodels.se_resnext101_32x4d(pretrained=pretrained)\n",
        "    return model"
      ],
      "metadata": {
        "execution": {
          "iopub.status.busy": "2024-05-19T20:27:36.397867Z",
          "iopub.execute_input": "2024-05-19T20:27:36.398749Z",
          "iopub.status.idle": "2024-05-19T20:27:36.404633Z",
          "shell.execute_reply.started": "2024-05-19T20:27:36.398711Z",
          "shell.execute_reply": "2024-05-19T20:27:36.403392Z"
        },
        "trusted": true,
        "id": "qcBWATCHL3rY"
      },
      "execution_count": null,
      "outputs": []
    },
    {
      "cell_type": "code",
      "source": [
        "class SEResnext101(nn.Module):\n",
        "    def __init__(self, model, num_classes=1000):\n",
        "        super().__init__()\n",
        "        self.backbone = model\n",
        "        self.dropout = nn.Dropout(0.5)\n",
        "        self.fc = nn.Linear(2048, 5)\n",
        "        self.avg_pool = nn.AdaptiveAvgPool2d(1)\n",
        "    def forward(self, x):\n",
        "        x = self.backbone.layer0(x)\n",
        "        x = self.backbone.layer1(x)\n",
        "        x = self.backbone.layer2(x)\n",
        "        x = self.backbone.layer3(x)\n",
        "        x = self.backbone.layer4(x)\n",
        "        x = self.avg_pool(x)\n",
        "        x = self.dropout(x)\n",
        "        x = x.view(x.size(0), -1)\n",
        "        x = self.fc(x)\n",
        "        return x\n",
        "\n",
        "\n"
      ],
      "metadata": {
        "execution": {
          "iopub.status.busy": "2024-05-19T20:27:37.217952Z",
          "iopub.execute_input": "2024-05-19T20:27:37.218917Z",
          "iopub.status.idle": "2024-05-19T20:27:37.22774Z",
          "shell.execute_reply.started": "2024-05-19T20:27:37.21888Z",
          "shell.execute_reply": "2024-05-19T20:27:37.226567Z"
        },
        "trusted": true,
        "id": "PmkMIUihL3rY"
      },
      "execution_count": null,
      "outputs": []
    },
    {
      "cell_type": "code",
      "source": [
        "def get_model(model_name = 'se_resnext101_32x4d'):\n",
        "\n",
        "    if model_name == 'se_resnext101_32x4d':\n",
        "        base_model = se_resnext101_32x4d(pretrained=True)\n",
        "        model_ft = SEResnext101(base_model, 5)\n",
        "\n",
        "    elif model_name == 'se_resnext50_32x4d':\n",
        "        model_ft = se_resnext50_32x4d(pretrained=False)\n",
        "        model_ft.avg_pool = torch.nn.AdaptiveAvgPool2d(1)\n",
        "\n",
        "        num_ftrs = model_ft.last_linear.in_features\n",
        "        model_ft.last_linear = torch.nn.Linear(num_ftrs, 5)\n",
        "\n",
        "    elif model_name == 'resnet50':\n",
        "        base_model = models.resnet50(pretrained=True)\n",
        "        model_ft = ResNet50(base_model, 5)\n",
        "\n",
        "        num_ftrs = model_ft.fc.in_features\n",
        "        model_ft.fc = nn.Linear(num_ftrs, 5)\n",
        "\n",
        "    model_ft = model_ft.to(device)\n",
        "    return model_ft\n",
        "\n"
      ],
      "metadata": {
        "execution": {
          "iopub.status.busy": "2024-05-19T20:27:38.118391Z",
          "iopub.execute_input": "2024-05-19T20:27:38.118944Z",
          "iopub.status.idle": "2024-05-19T20:27:38.127196Z",
          "shell.execute_reply.started": "2024-05-19T20:27:38.11891Z",
          "shell.execute_reply": "2024-05-19T20:27:38.125951Z"
        },
        "trusted": true,
        "id": "IsNU6neWL3rY"
      },
      "execution_count": null,
      "outputs": []
    },
    {
      "cell_type": "code",
      "source": [
        "model_ft = get_model(model_name = 'se_resnext101_32x4d')\n"
      ],
      "metadata": {
        "execution": {
          "iopub.status.busy": "2024-05-19T20:27:39.53702Z",
          "iopub.execute_input": "2024-05-19T20:27:39.537426Z",
          "iopub.status.idle": "2024-05-19T20:36:53.021488Z",
          "shell.execute_reply.started": "2024-05-19T20:27:39.537394Z",
          "shell.execute_reply": "2024-05-19T20:36:53.020545Z"
        },
        "trusted": true,
        "id": "4gmoz5e3L3rY",
        "outputId": "3d6cfdf2-5398-4e4e-b31b-a5ed0b466dd5"
      },
      "execution_count": null,
      "outputs": [
        {
          "name": "stderr",
          "text": "Downloading: \"http://data.lip6.fr/cadene/pretrainedmodels/se_resnext101_32x4d-3b2fe3d8.pth\" to /root/.cache/torch/hub/checkpoints/se_resnext101_32x4d-3b2fe3d8.pth\n100%|██████████| 187M/187M [09:11<00:00, 356kB/s]    \n",
          "output_type": "stream"
        }
      ]
    },
    {
      "cell_type": "code",
      "source": [
        "criterion = torch.nn.CrossEntropyLoss()\n",
        "\n",
        "optimizer = torch.optim.Adam(model_ft .parameters(), lr=1e-3)\n",
        "# scheduler = ReduceLROnPlateau(optimizer, mode='min', factor=0.2, patience=5, min_lr=0.0001)\n",
        "scheduler = ReduceLROnPlateau(optimizer, mode='min', factor=0.1, patience=2, verbose=True)"
      ],
      "metadata": {
        "papermill": {
          "duration": 0.02129,
          "end_time": "2021-03-29T11:50:49.462113",
          "exception": false,
          "start_time": "2021-03-29T11:50:49.440823",
          "status": "completed"
        },
        "tags": [],
        "execution": {
          "iopub.status.busy": "2024-05-19T20:37:19.292438Z",
          "iopub.execute_input": "2024-05-19T20:37:19.292872Z",
          "iopub.status.idle": "2024-05-19T20:37:19.302906Z",
          "shell.execute_reply.started": "2024-05-19T20:37:19.292839Z",
          "shell.execute_reply": "2024-05-19T20:37:19.301501Z"
        },
        "trusted": true,
        "id": "c0jMBP66L3rZ"
      },
      "execution_count": null,
      "outputs": []
    },
    {
      "cell_type": "code",
      "source": [
        "writer = SummaryWriter()"
      ],
      "metadata": {
        "execution": {
          "iopub.status.busy": "2024-05-19T20:37:29.892698Z",
          "iopub.execute_input": "2024-05-19T20:37:29.893128Z",
          "iopub.status.idle": "2024-05-19T20:37:29.901301Z",
          "shell.execute_reply.started": "2024-05-19T20:37:29.893095Z",
          "shell.execute_reply": "2024-05-19T20:37:29.900057Z"
        },
        "trusted": true,
        "id": "6u0M49wpL3rZ"
      },
      "execution_count": null,
      "outputs": []
    },
    {
      "cell_type": "code",
      "source": [
        "def predict(model, data_loader):\n",
        "    model.eval()\n",
        "    preds = []\n",
        "    for images, _ in data_loader:\n",
        "        # Forward pass.\n",
        "        output = model(images.to(device))\n",
        "        # Get the label corresponding to the highest predicted probability.\n",
        "        pred = output.argmax(dim=1, keepdim=True)\n",
        "        for p in pred:\n",
        "            pred_class = train_data.classes_Dict[p.item()]\n",
        "            preds.append(pred_class)\n",
        "    return preds"
      ],
      "metadata": {
        "execution": {
          "iopub.status.busy": "2024-05-19T20:38:11.403879Z",
          "iopub.execute_input": "2024-05-19T20:38:11.404311Z",
          "iopub.status.idle": "2024-05-19T20:38:11.411958Z",
          "shell.execute_reply.started": "2024-05-19T20:38:11.404277Z",
          "shell.execute_reply": "2024-05-19T20:38:11.410592Z"
        },
        "trusted": true,
        "id": "WjUq2cesL3rZ"
      },
      "execution_count": null,
      "outputs": []
    },
    {
      "cell_type": "code",
      "source": [
        " def train(model,data_loader, optimizer, scheduler, num_epochs=5):\n",
        "    \"\"\"Simple training loop for a PyTorch model.\"\"\"\n",
        "\n",
        "    # Make sure model is in training mode.\n",
        "    model.train()\n",
        "\n",
        "    # Move model to the device (CPU or GPU).\n",
        "    model.to(device)\n",
        "\n",
        "    # Exponential moving average of the loss.\n",
        "    train_ema_loss = None\n",
        "    train_losses = []\n",
        "    valid_losses = []\n",
        "    best_accuracy = 0.0  # Variable to track the best accuracy\n",
        "    print('----- Training Loop -----')\n",
        "\n",
        "    # Loop over epochs.\n",
        "    for epoch in range(num_epochs):\n",
        "        epoch_val_acc = []\n",
        "\n",
        "        # Loop over data.\n",
        "        for fold, (train_loader, valid_loader) in enumerate(data_loader):\n",
        "            correct = 0\n",
        "\n",
        "            for _, (features, target) in enumerate(train_loader):\n",
        "                # Forward pass.\n",
        "                output = model(features.to(device))\n",
        "                train_loss = criterion(output.to(device), target.to(device))\n",
        "\n",
        "                # Backward pass.\n",
        "                optimizer.zero_grad()\n",
        "                train_loss.backward()\n",
        "                optimizer.step()\n",
        "\n",
        "                if train_ema_loss is None:\n",
        "                    train_ema_loss = train_loss.item()\n",
        "                else:\n",
        "                    train_ema_loss += (train_loss.item() - train_ema_loss) * 0.01\n",
        "\n",
        "            train_losses.append(train_ema_loss)\n",
        "\n",
        "            # Evaluate on the validation set\n",
        "            model.eval()\n",
        "            total_valid_loss = 0\n",
        "            valid_ema_loss = None\n",
        "            with torch.no_grad():\n",
        "                for _, (features, target) in enumerate(valid_loader):\n",
        "                    output = model(features.to(device))\n",
        "                    valid_loss = criterion(output.to(device), target.to(device))\n",
        "                    pred = output.argmax(dim=1, keepdim=True)\n",
        "                    correct += pred.cpu().eq(target.view_as(pred)).sum().item()\n",
        "\n",
        "                    if valid_ema_loss is None:\n",
        "                        valid_ema_loss = valid_loss.item()\n",
        "                    else:\n",
        "                        valid_ema_loss += (valid_loss.item() - valid_ema_loss) * 0.01\n",
        "\n",
        "                valid_losses.append(valid_ema_loss)\n",
        "                scheduler.step(valid_ema_loss)\n",
        "\n",
        "                # Calculate validation accuracy\n",
        "                validation_accuracy = correct / len(valid_loader.dataset)\n",
        "                epoch_val_acc.append(validation_accuracy)\n",
        "\n",
        "                # Save the model if it has the best accuracy so far\n",
        "                if validation_accuracy > best_accuracy:\n",
        "                    best_accuracy = validation_accuracy\n",
        "                    torch.save(model.state_dict(), 'best_model.ckpt')\n",
        "\n",
        "            # Print progress at the end of the epoch.\n",
        "            print(f'Epoch: {epoch}, Fold: {fold}, Train Loss: {train_ema_loss:.6f}, Valid Loss: {valid_ema_loss:.6f}')\n",
        "            print(f'Validation accuracy: {correct} / {len(valid_loader.dataset)} ({validation_accuracy:.2%})')\n",
        "            model.train()\n",
        "\n",
        "            iteration = epoch * len(data_loader) + fold\n",
        "            writer.add_scalar(\"Loss/Train\", train_ema_loss, iteration)\n",
        "            writer.add_scalar(\"Loss/Validation\", valid_ema_loss, iteration)\n",
        "\n",
        "        print(f'Epoch accuracy: {np.mean(epoch_val_acc)}')\n",
        "\n",
        "    # Close the TensorBoard writer\n",
        "    writer.close()\n",
        "\n",
        "    return train_losses, valid_losses"
      ],
      "metadata": {
        "execution": {
          "iopub.status.busy": "2024-05-19T20:38:33.412896Z",
          "iopub.execute_input": "2024-05-19T20:38:33.4133Z",
          "iopub.status.idle": "2024-05-19T20:38:33.431495Z",
          "shell.execute_reply.started": "2024-05-19T20:38:33.413268Z",
          "shell.execute_reply": "2024-05-19T20:38:33.43006Z"
        },
        "trusted": true,
        "id": "UX46ZB4KL3rZ"
      },
      "execution_count": null,
      "outputs": []
    },
    {
      "cell_type": "code",
      "source": [
        "def test(model, data_loader):\n",
        "    \"\"\"Measures the accuracy of a model on a data set.\"\"\"\n",
        "    # Make sure the model is in evaluation mode.\n",
        "    model.eval()\n",
        "    correct = 0\n",
        "    print('----- Model Evaluation -----')\n",
        "    # We do not need to maintain intermediate activations while testing.\n",
        "    with torch.no_grad():\n",
        "\n",
        "        # Loop over test data.\n",
        "        for features, target in data_loader:\n",
        "\n",
        "            # Forward pass.\n",
        "            output = model(features.to(device))\n",
        "\n",
        "            # Get the label corresponding to the highest predicted probability.\n",
        "            pred = output.argmax(dim=1, keepdim=True)\n",
        "\n",
        "\n",
        "            # Count number of correct predictions.\n",
        "            correct += pred.cpu().eq(target.view_as(pred)).sum().item()\n",
        "\n",
        "    # Print test accuracy.\n",
        "    percent = 100. * correct / len(data_loader.dataset)\n",
        "    print(f'Test accuracy: {correct} / {len(data_loader.dataset)} ({percent:.0f}%)')\n",
        "    torch.save(model.state_dict(), 'model.ckpt')\n",
        "    return percent"
      ],
      "metadata": {
        "papermill": {
          "duration": 0.024848,
          "end_time": "2021-03-29T11:50:49.536153",
          "exception": false,
          "start_time": "2021-03-29T11:50:49.511305",
          "status": "completed"
        },
        "tags": [],
        "execution": {
          "iopub.status.busy": "2024-05-19T20:38:36.534322Z",
          "iopub.execute_input": "2024-05-19T20:38:36.534746Z",
          "iopub.status.idle": "2024-05-19T20:38:36.543963Z",
          "shell.execute_reply.started": "2024-05-19T20:38:36.534713Z",
          "shell.execute_reply": "2024-05-19T20:38:36.542578Z"
        },
        "trusted": true,
        "id": "Ip5ytAH2L3ra"
      },
      "execution_count": null,
      "outputs": []
    },
    {
      "cell_type": "code",
      "source": [
        "def predict(model, data_loader):\n",
        "    model.eval()\n",
        "    preds = []\n",
        "    for images, _ in data_loader:\n",
        "        # Forward pass.\n",
        "        output = model(images.to(device))\n",
        "        # Get the label corresponding to the highest predicted probability.\n",
        "        pred = output.argmax(dim=1, keepdim=True)\n",
        "        for p in pred:\n",
        "            pred_class = train_data.classes_Dict[p.item()]\n",
        "            preds.append(pred_class)\n",
        "    return preds"
      ],
      "metadata": {
        "execution": {
          "iopub.status.busy": "2024-05-19T23:06:48.664267Z",
          "iopub.execute_input": "2024-05-19T23:06:48.664923Z",
          "iopub.status.idle": "2024-05-19T23:06:48.672159Z",
          "shell.execute_reply.started": "2024-05-19T23:06:48.664887Z",
          "shell.execute_reply": "2024-05-19T23:06:48.670901Z"
        },
        "trusted": true,
        "id": "1EWlJiLnL3ra"
      },
      "execution_count": null,
      "outputs": []
    },
    {
      "cell_type": "code",
      "source": [
        "def generate_submission_file(predictions):\n",
        "    mapped_preds = []\n",
        "    for idx in range(len(test_data)):\n",
        "        mapped_preds.append({'Category': predictions[idx], 'Id': test_data.get_image_filename(idx)})\n",
        "    pd.DataFrame(mapped_preds).to_csv(\"sample_submission_file_new.csv\", index=False)"
      ],
      "metadata": {
        "execution": {
          "iopub.status.busy": "2024-05-19T23:06:49.447202Z",
          "iopub.execute_input": "2024-05-19T23:06:49.447994Z",
          "iopub.status.idle": "2024-05-19T23:06:49.453878Z",
          "shell.execute_reply.started": "2024-05-19T23:06:49.447959Z",
          "shell.execute_reply": "2024-05-19T23:06:49.452729Z"
        },
        "trusted": true,
        "id": "SNTESncAL3ra"
      },
      "execution_count": null,
      "outputs": []
    },
    {
      "cell_type": "code",
      "source": [
        "# num_epochs = 10\n",
        "# num_folds = 5\n",
        "# batch_size = 16\n",
        "# dataset = CassavaDataset(train_path, transform=train_transforms)\n",
        "\n",
        "# # Initialize StratifiedKFold\n",
        "# skf = StratifiedKFold(n_splits=num_folds, shuffle=True, random_state=42)\n",
        "\n",
        "# fold_accuracies = []\n",
        "\n",
        "# for fold, (train_idx, val_idx) in enumerate(skf.split(dataset.file_list, [label for _, label, _ in dataset.file_list])):\n",
        "#     print(f'Fold {fold+1}/{num_folds}')\n",
        "#     train_sampler = SubsetRandomSampler(train_idx)\n",
        "#     val_sampler = SubsetRandomSampler(val_idx)\n",
        "\n",
        "#     train_loader_fold = DataLoader(dataset, batch_size=batch_size, sampler=train_sampler)\n",
        "#     val_loader_fold = DataLoader(dataset, batch_size=batch_size, sampler=val_sampler)\n",
        "\n",
        "#     # Initialize a new model for each fold\n",
        "#     model = CustomResNext(model_name='resnext50_32x4d', pretrained = False)\n",
        "\n",
        "#     optimizer = torch.optim.Adam(model.parameters(), lr=1e-2)\n",
        "\n",
        "#     # Train the model\n",
        "#     train(model, criterion, train_loader_fold, optimizer, num_epochs)\n",
        "\n",
        "#     # Validate the model\n",
        "#     accuracy = test(model, val_loader_fold)\n",
        "#     fold_accuracies.append(accuracy)\n",
        "\n",
        "# # Print the average performance across folds\n",
        "# print(f'Average Cross-Validation Accuracy: {np.mean(fold_accuracies):.2f}%')\n",
        "\n",
        "# # Test the final model on the test set\n",
        "# final_accuracy = test(model, DataLoader(test_data, batch_size=batch_size))\n",
        "# # predictions = predict(model, test_loader)\n",
        "# # Make submission here\n",
        "# # generate_submission_file(predictions)\n",
        "# print(f'Final Test Accuracy: {final_accuracy:.2f}%')\n"
      ],
      "metadata": {
        "execution": {
          "iopub.status.busy": "2024-05-19T20:02:56.482538Z",
          "iopub.execute_input": "2024-05-19T20:02:56.482923Z",
          "iopub.status.idle": "2024-05-19T20:02:56.488239Z",
          "shell.execute_reply.started": "2024-05-19T20:02:56.482892Z",
          "shell.execute_reply": "2024-05-19T20:02:56.487293Z"
        },
        "trusted": true,
        "id": "vvpD2bOWL3ra"
      },
      "execution_count": null,
      "outputs": []
    },
    {
      "cell_type": "code",
      "source": [
        "print(f'Final Test Accuracy: {final_accuracy:.2f}%')"
      ],
      "metadata": {
        "trusted": true,
        "id": "Zk85CBOrL3ra"
      },
      "execution_count": null,
      "outputs": []
    },
    {
      "cell_type": "code",
      "source": [
        "predictions = predict(model_ft, test_loader)\n",
        "# Make submission here\n",
        "generate_submission_file(predictions)"
      ],
      "metadata": {
        "execution": {
          "iopub.status.busy": "2024-05-19T23:06:54.317523Z",
          "iopub.execute_input": "2024-05-19T23:06:54.31796Z",
          "iopub.status.idle": "2024-05-19T23:09:27.034392Z",
          "shell.execute_reply.started": "2024-05-19T23:06:54.317928Z",
          "shell.execute_reply": "2024-05-19T23:09:27.033412Z"
        },
        "trusted": true,
        "id": "bXRx0xZEL3ra"
      },
      "execution_count": null,
      "outputs": []
    },
    {
      "cell_type": "code",
      "source": [
        "num_epochs = 5\n",
        "train(model_ft,data_loaders, optimizer, scheduler, num_epochs=5)\n",
        "# test(model, valid_loader)"
      ],
      "metadata": {
        "papermill": {
          "duration": 575.928379,
          "end_time": "2021-03-29T12:00:25.476731",
          "exception": false,
          "start_time": "2021-03-29T11:50:49.548352",
          "status": "completed"
        },
        "tags": [],
        "execution": {
          "iopub.status.busy": "2024-05-19T20:38:47.672251Z",
          "iopub.execute_input": "2024-05-19T20:38:47.673044Z",
          "iopub.status.idle": "2024-05-19T23:03:04.454591Z",
          "shell.execute_reply.started": "2024-05-19T20:38:47.67301Z",
          "shell.execute_reply": "2024-05-19T23:03:04.453593Z"
        },
        "trusted": true,
        "id": "Be2qiM41L3ra",
        "outputId": "d83c683b-36f8-4b25-f0a0-960d10b8da98"
      },
      "execution_count": null,
      "outputs": [
        {
          "name": "stdout",
          "text": "----- Training Loop -----\nEpoch: 0, Fold: 0, Train Loss: 0.873290, Valid Loss: 0.666046\nValidation accuracy: 881 / 1132 (77.83%)\nEpoch: 0, Fold: 1, Train Loss: 0.683423, Valid Loss: 0.493190\nValidation accuracy: 867 / 1131 (76.66%)\nEpoch: 0, Fold: 2, Train Loss: 0.653806, Valid Loss: 0.293903\nValidation accuracy: 940 / 1131 (83.11%)\nEpoch: 0, Fold: 3, Train Loss: 0.595937, Valid Loss: 0.293209\nValidation accuracy: 936 / 1131 (82.76%)\nEpoch: 0, Fold: 4, Train Loss: 0.550470, Valid Loss: 0.586179\nValidation accuracy: 926 / 1131 (81.87%)\nEpoch accuracy: 0.8044600762950951\nEpoch: 1, Fold: 0, Train Loss: 0.533657, Valid Loss: 0.334607\nValidation accuracy: 966 / 1132 (85.34%)\nEpoch 00007: reducing learning rate of group 0 to 1.0000e-04.\nEpoch: 1, Fold: 1, Train Loss: 0.554320, Valid Loss: 0.334514\nValidation accuracy: 940 / 1131 (83.11%)\nEpoch: 1, Fold: 2, Train Loss: 0.470838, Valid Loss: 0.330421\nValidation accuracy: 1002 / 1131 (88.59%)\nEpoch: 1, Fold: 3, Train Loss: 0.414964, Valid Loss: 0.213380\nValidation accuracy: 996 / 1131 (88.06%)\nEpoch: 1, Fold: 4, Train Loss: 0.395645, Valid Loss: 0.297340\nValidation accuracy: 990 / 1131 (87.53%)\nEpoch accuracy: 0.8652779209742777\nEpoch: 2, Fold: 0, Train Loss: 0.395374, Valid Loss: 0.176212\nValidation accuracy: 1023 / 1132 (90.37%)\nEpoch: 2, Fold: 1, Train Loss: 0.368913, Valid Loss: 0.348767\nValidation accuracy: 1010 / 1131 (89.30%)\nEpoch: 2, Fold: 2, Train Loss: 0.370150, Valid Loss: 0.277764\nValidation accuracy: 1017 / 1131 (89.92%)\nEpoch 00014: reducing learning rate of group 0 to 1.0000e-05.\nEpoch: 2, Fold: 3, Train Loss: 0.358014, Valid Loss: 0.197813\nValidation accuracy: 1005 / 1131 (88.86%)\nEpoch: 2, Fold: 4, Train Loss: 0.334929, Valid Loss: 0.308952\nValidation accuracy: 1016 / 1131 (89.83%)\nEpoch accuracy: 0.8965687515035633\nEpoch: 3, Fold: 0, Train Loss: 0.348317, Valid Loss: 0.174327\nValidation accuracy: 1019 / 1132 (90.02%)\nEpoch: 3, Fold: 1, Train Loss: 0.339679, Valid Loss: 0.347133\nValidation accuracy: 1009 / 1131 (89.21%)\nEpoch: 3, Fold: 2, Train Loss: 0.340968, Valid Loss: 0.184315\nValidation accuracy: 1007 / 1131 (89.04%)\nEpoch 00019: reducing learning rate of group 0 to 1.0000e-06.\nEpoch: 3, Fold: 3, Train Loss: 0.337443, Valid Loss: 0.203255\nValidation accuracy: 1012 / 1131 (89.48%)\nEpoch: 3, Fold: 4, Train Loss: 0.347585, Valid Loss: 0.218448\nValidation accuracy: 1002 / 1131 (88.59%)\nEpoch accuracy: 0.8926790138499655\nEpoch: 4, Fold: 0, Train Loss: 0.345360, Valid Loss: 0.164024\nValidation accuracy: 1026 / 1132 (90.64%)\nEpoch: 4, Fold: 1, Train Loss: 0.312300, Valid Loss: 0.180175\nValidation accuracy: 1018 / 1131 (90.01%)\nEpoch: 4, Fold: 2, Train Loss: 0.314627, Valid Loss: 0.175060\nValidation accuracy: 1025 / 1131 (90.63%)\nEpoch 00024: reducing learning rate of group 0 to 1.0000e-07.\nEpoch: 4, Fold: 3, Train Loss: 0.311327, Valid Loss: 0.193094\nValidation accuracy: 1017 / 1131 (89.92%)\nEpoch: 4, Fold: 4, Train Loss: 0.332165, Valid Loss: 0.245906\nValidation accuracy: 1006 / 1131 (88.95%)\nEpoch accuracy: 0.9002818107119314\n",
          "output_type": "stream"
        },
        {
          "execution_count": 27,
          "output_type": "execute_result",
          "data": {
            "text/plain": "([0.8732899131224321,\n  0.6834234303726101,\n  0.6538064266373915,\n  0.595937305613116,\n  0.5504699286479201,\n  0.5336566652464545,\n  0.5543201468718626,\n  0.4708383147904551,\n  0.4149642012516712,\n  0.3956454053520135,\n  0.39537387635994176,\n  0.3689130385817739,\n  0.37015011991553654,\n  0.3580137676051554,\n  0.33492923176479905,\n  0.3483168132509244,\n  0.33967896980113044,\n  0.3409675896785809,\n  0.3374434682012244,\n  0.3475848003820822,\n  0.34535989946178064,\n  0.31229955781535157,\n  0.3146272319985065,\n  0.31132720942713266,\n  0.3321649509145121],\n [0.666046140300889,\n  0.49319023754133096,\n  0.2939027230194311,\n  0.29320886344579794,\n  0.5861794166106654,\n  0.33460652095720994,\n  0.33451350257249723,\n  0.3304208752199101,\n  0.21338035421878868,\n  0.29733950351262456,\n  0.17621210185885677,\n  0.34876688069948675,\n  0.27776416022337436,\n  0.19781333638811388,\n  0.30895182754256645,\n  0.17432748666852516,\n  0.34713272970234293,\n  0.18431516587980332,\n  0.20325523384598465,\n  0.2184479901568965,\n  0.1640235991379755,\n  0.180175000676826,\n  0.17505997880199045,\n  0.19309351060354374,\n  0.2459062322538469])"
          },
          "metadata": {}
        }
      ]
    },
    {
      "cell_type": "code",
      "source": [
        "test(model, test_loader)"
      ],
      "metadata": {
        "papermill": {
          "duration": 0.024454,
          "end_time": "2021-03-29T12:00:25.51629",
          "exception": false,
          "start_time": "2021-03-29T12:00:25.491836",
          "status": "completed"
        },
        "tags": [],
        "trusted": true,
        "id": "k7Ifb2WQL3rb"
      },
      "execution_count": null,
      "outputs": []
    },
    {
      "cell_type": "code",
      "source": [
        "# Make submission here"
      ],
      "metadata": {
        "papermill": {
          "duration": 0.023453,
          "end_time": "2021-03-29T12:00:25.554652",
          "exception": false,
          "start_time": "2021-03-29T12:00:25.531199",
          "status": "completed"
        },
        "tags": [],
        "trusted": true,
        "id": "HZBKRGQVL3rb"
      },
      "execution_count": null,
      "outputs": []
    },
    {
      "cell_type": "code",
      "source": [
        "train_losses = [0.8732899131224321,\n",
        "  0.6834234303726101,\n",
        "  0.6538064266373915,\n",
        "  0.595937305613116,\n",
        "  0.5504699286479201,\n",
        "  0.5336566652464545,\n",
        "  0.5543201468718626,\n",
        "  0.4708383147904551,\n",
        "  0.4149642012516712,\n",
        "  0.3956454053520135,\n",
        "  0.39537387635994176,\n",
        "  0.3689130385817739,\n",
        "  0.37015011991553654,\n",
        "  0.3580137676051554,\n",
        "  0.33492923176479905,\n",
        "  0.3483168132509244,\n",
        "  0.33967896980113044,\n",
        "  0.3409675896785809,\n",
        "  0.3374434682012244,\n",
        "  0.3475848003820822,\n",
        "  0.34535989946178064,\n",
        "  0.31229955781535157,\n",
        "  0.3146272319985065,\n",
        "  0.31132720942713266,\n",
        "  0.3321649509145121]\n",
        "valid_losses = [0.666046140300889,\n",
        "  0.49319023754133096,\n",
        "  0.2939027230194311,\n",
        "  0.29320886344579794,\n",
        "  0.5861794166106654,\n",
        "  0.33460652095720994,\n",
        "  0.33451350257249723,\n",
        "  0.3304208752199101,\n",
        "  0.21338035421878868,\n",
        "  0.29733950351262456,\n",
        "  0.17621210185885677,\n",
        "  0.34876688069948675,\n",
        "  0.27776416022337436,\n",
        "  0.19781333638811388,\n",
        "  0.30895182754256645,\n",
        "  0.17432748666852516,\n",
        "  0.34713272970234293,\n",
        "  0.18431516587980332,\n",
        "  0.20325523384598465,\n",
        "  0.2184479901568965,\n",
        "  0.1640235991379755,\n",
        "  0.180175000676826,\n",
        "  0.17505997880199045,\n",
        "  0.19309351060354374,\n",
        "  0.2459062322538469]"
      ],
      "metadata": {
        "execution": {
          "iopub.status.busy": "2024-05-19T17:08:17.635756Z",
          "iopub.status.idle": "2024-05-19T17:08:17.636101Z",
          "shell.execute_reply.started": "2024-05-19T17:08:17.635903Z",
          "shell.execute_reply": "2024-05-19T17:08:17.635916Z"
        },
        "trusted": true,
        "id": "bYx-ES0eL3rb"
      },
      "execution_count": null,
      "outputs": []
    },
    {
      "cell_type": "code",
      "source": [
        "plt.figure()\n",
        "plt.plot(train_losses, label='Train Loss')\n",
        "plt.plot(valid_losses, label='Validation Loss')\n",
        "plt.xlabel('Iteration')\n",
        "plt.ylabel('Loss')\n",
        "plt.title('Training and Validation Loss')\n",
        "plt.legend()\n",
        "plt.show()\n"
      ],
      "metadata": {
        "papermill": {
          "duration": 0.01493,
          "end_time": "2021-03-29T12:00:25.584744",
          "exception": false,
          "start_time": "2021-03-29T12:00:25.569814",
          "status": "completed"
        },
        "tags": [],
        "execution": {
          "iopub.status.busy": "2024-05-19T17:08:17.637297Z",
          "iopub.status.idle": "2024-05-19T17:08:17.637594Z",
          "shell.execute_reply.started": "2024-05-19T17:08:17.63744Z",
          "shell.execute_reply": "2024-05-19T17:08:17.637452Z"
        },
        "trusted": true,
        "id": "ErjTCLfeL3rh"
      },
      "execution_count": null,
      "outputs": []
    }
  ]
}